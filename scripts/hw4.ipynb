{
 "cells": [
  {
   "cell_type": "code",
   "execution_count": 2,
   "metadata": {
    "collapsed": false
   },
   "outputs": [
    {
     "data": {
      "text/plain": [
       "True"
      ]
     },
     "execution_count": 2,
     "metadata": {},
     "output_type": "execute_result"
    }
   ],
   "source": [
    "import numpy as np \n",
    "from matplotlib import pyplot as plt\n",
    "import scipy.integrate as integrate\n",
    "\n",
    "def q3_integrand(E):\n",
    "    return 0.453 * np.exp(-1.036 * E) * np.sinh(np.sqrt(2.29 * E))\n",
    "\n",
    "def q3():\n",
    "    cdf = []\n",
    "    first = True\n",
    "    domain = np.linspace(1e-2, 10, 1000)\n",
    "    for x in domain:\n",
    "        int_result = integrate.quad(q3_integrand, 1e-2, x)\n",
    "        cdf.append(int_result[0])\n",
    "\n",
    "    plt.semilogx(domain, cdf)\n",
    "    # axes = plt.gca()\n",
    "    # axes.set_xlim([0, 1.55])\n",
    "    # axes.set_ylim([0, 1.55])\n",
    "    plt.xlabel('Energy (Mev)')\n",
    "    plt.ylabel('Cumulative Probability Density')\n",
    "    plt.title(r'CDF of the $\\chi (E)$ Function')\n",
    "    # plt.legend()\n",
    "    plt.savefig('cum_xi.png')\n",
    "    plt.close()\n",
    "\n",
    "    return True\n",
    "\n",
    "q3()"
   ]
  },
  {
   "cell_type": "code",
   "execution_count": null,
   "metadata": {
    "collapsed": true
   },
   "outputs": [],
   "source": []
  }
 ],
 "metadata": {
  "anaconda-cloud": {},
  "kernelspec": {
   "display_name": "Python [default]",
   "language": "python",
   "name": "python3"
  },
  "language_info": {
   "codemirror_mode": {
    "name": "ipython",
    "version": 3
   },
   "file_extension": ".py",
   "mimetype": "text/x-python",
   "name": "python",
   "nbconvert_exporter": "python",
   "pygments_lexer": "ipython3",
   "version": "3.5.2"
  }
 },
 "nbformat": 4,
 "nbformat_minor": 1
}
